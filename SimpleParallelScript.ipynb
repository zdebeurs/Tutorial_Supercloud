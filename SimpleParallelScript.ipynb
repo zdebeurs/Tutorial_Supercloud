{
 "cells": [
  {
   "cell_type": "code",
   "execution_count": 1,
   "id": "cd1ce3a1",
   "metadata": {},
   "outputs": [],
   "source": [
    "# Code modified from Konrad Hafen\n",
    "# link to full article: https://towardsdatascience.com/asynchronous-parallel-programming-in-python-with-multiprocessing-a3fc882b4023"
   ]
  },
  {
   "cell_type": "code",
   "execution_count": 10,
   "id": "168b73f2",
   "metadata": {},
   "outputs": [],
   "source": [
    "import multiprocessing as mp\n",
    "import numpy as np\n",
    "import time\n",
    "from my_function import my_function"
   ]
  },
  {
   "cell_type": "code",
   "execution_count": 6,
   "id": "af1e19ca",
   "metadata": {},
   "outputs": [],
   "source": [
    "def get_result(result):\n",
    "    global results\n",
    "    results.append(result)"
   ]
  },
  {
   "cell_type": "code",
   "execution_count": 13,
   "id": "01652b86",
   "metadata": {},
   "outputs": [
    {
     "name": "stdout",
     "output_type": "stream",
     "text": [
      "Time in serial: 10.037615299224854\n",
      "[(0, 1030.924357645859), (1, 17212.251773861324), (2, 17183.79708342246), (3, 51387.0619311607), (4, 569154.3278169606), (5, 282259.1088940338), (6, 263188.4001524367), (7, 3887.6563341977594), (8, 302532.9476852619), (9, 25072.54204173422)]\n",
      "Number of CPUs used: 8\n",
      "Time in parallel: 2.6287648677825928\n",
      "[(2, 17183.79708342246), (1, 17212.251773861324), (7, 3887.6563341977594), (4, 569154.3278169606), (0, 1030.924357645859), (6, 263188.4001524367), (3, 51387.0619311607), (5, 282259.1088940338), (9, 25072.54204173422), (8, 302532.9476852619)]\n"
     ]
    }
   ],
   "source": [
    "if __name__ == '__main__':\n",
    "    params = np.random.random((10, 3)) * 100.0\n",
    "    results = []\n",
    "    ts = time.time()\n",
    "    for i in range(0, params.shape[0]):\n",
    "        get_result(my_function(i, params[i, 0], params[i, 1],\\\n",
    "         params[i, 2]))\n",
    "    print('Time in serial:', time.time() - ts)\n",
    "    print(results)\n",
    "    \n",
    "    results = []\n",
    "    ts = time.time()\n",
    "    num_cpus = mp.cpu_count()\n",
    "    print(\"Number of CPUs used: \"+str(num_cpus))\n",
    "    pool = mp.Pool(num_cpus)\n",
    "    for i in range(0, params.shape[0]):\n",
    "        pool.apply_async(my_function, args=(i, params[i, 0], params[i,\\\n",
    "         1], params[i, 2]), callback=get_result)\n",
    "    pool.close()\n",
    "    pool.join()\n",
    "    print('Time in parallel:', time.time() - ts)\n",
    "    print(results)"
   ]
  },
  {
   "cell_type": "code",
   "execution_count": null,
   "id": "b964a811",
   "metadata": {},
   "outputs": [],
   "source": []
  }
 ],
 "metadata": {
  "kernelspec": {
   "display_name": "Python 3",
   "language": "python",
   "name": "python3"
  },
  "language_info": {
   "codemirror_mode": {
    "name": "ipython",
    "version": 3
   },
   "file_extension": ".py",
   "mimetype": "text/x-python",
   "name": "python",
   "nbconvert_exporter": "python",
   "pygments_lexer": "ipython3",
   "version": "3.8.8"
  }
 },
 "nbformat": 4,
 "nbformat_minor": 5
}
