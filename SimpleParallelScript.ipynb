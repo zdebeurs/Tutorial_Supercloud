{
 "cells": [
  {
   "cell_type": "code",
   "execution_count": 1,
   "id": "cd1ce3a1",
   "metadata": {},
   "outputs": [],
   "source": [
    "# Code modified from Konrad Hafen\n",
    "# link to full article: https://towardsdatascience.com/asynchronous-parallel-programming-in-python-with-multiprocessing-a3fc882b4023"
   ]
  },
  {
   "cell_type": "code",
   "execution_count": 20,
   "id": "168b73f2",
   "metadata": {},
   "outputs": [],
   "source": [
    "# Import necessary packages\n",
    "import numpy as np\n",
    "import time\n",
    "\n",
    "# this package allows us to run our code in parallel\n",
    "import multiprocessing as mp\n",
    "\n",
    "# This function is defined in a script outside of this notebook. \n",
    "# For some reason, multiprocessing requires that functions used are imported from an external script\n",
    "from my_function import my_function\n",
    "\n",
    "# For completeness, I included the function here as well, but this will not redefine the function as long as redefine =False\n",
    "redefine = False\n",
    "\n",
    "if redefine == True:\n",
    "    \n",
    "    def my_function(i, param1, param2, param3):\n",
    "        # Take the square of param1 and multiple it by param2, add param3\n",
    "        result = param1 ** 2 * param2 + param3\n",
    "        \n",
    "        # Time sleep is used to simulate what a computationally expensive function might do.\n",
    "        time.sleep(1)\n",
    "        \n",
    "        # return the iteration and the result\n",
    "        return (i, result)"
   ]
  },
  {
   "cell_type": "code",
   "execution_count": 21,
   "id": "e98af355",
   "metadata": {},
   "outputs": [],
   "source": [
    "# Define a function that compiles the global results\n",
    "def get_result(result):\n",
    "    global results\n",
    "    results.append(result)"
   ]
  },
  {
   "cell_type": "code",
   "execution_count": 22,
   "id": "b1cedf70",
   "metadata": {},
   "outputs": [
    {
     "name": "stdout",
     "output_type": "stream",
     "text": [
      "Time in serial: 10.044862985610962\n",
      "[(0, 162703.96742876942), (1, 620013.3662997581), (2, 300767.4350129216), (3, 4165.522028034708), (4, 380600.79786331166), (5, 304912.8488240684), (6, 27214.265312522075), (7, 128863.69303980893), (8, 40263.89267852791), (9, 91824.12669183477)]\n",
      "Number of CPUs used: 8\n",
      "Time in parallel: 2.5763609409332275\n",
      "[(5, 304912.8488240684), (4, 380600.79786331166), (6, 27214.265312522075), (3, 4165.522028034708), (1, 620013.3662997581), (7, 128863.69303980893), (2, 300767.4350129216), (0, 162703.96742876942), (8, 40263.89267852791), (9, 91824.12669183477)]\n"
     ]
    }
   ],
   "source": [
    "if __name__ == '__main__':\n",
    "    # Generate a 10 x 3 matrix of random numbers between 0 to 100 \n",
    "    params = np.random.random((10, 3)) * 100.0\n",
    "    \n",
    "    # create an empty list to store results\n",
    "    results = []\n",
    "    \n",
    "    # Record time before running the code in series\n",
    "    ts = time.time()\n",
    "    \n",
    "    # Run through the rows of params and perform a computation with a loop (i.e run this in series)\n",
    "    for i in range(0, params.shape[0]):\n",
    "        get_result(my_function(i, params[i, 0], params[i, 1],params[i, 2]))\n",
    "    # Print time elapses since running the code in series\n",
    "    print('Time in serial:', time.time() - ts)\n",
    "    print(results)\n",
    "    \n",
    "    # Now, let us do the same thing but in parallel\n",
    "    results = []\n",
    "    ts = time.time()\n",
    "    # count the number of cpus present on your machine\n",
    "    num_cpus = mp.cpu_count()\n",
    "    print(\"Number of CPUs used: \"+str(num_cpus))\n",
    "    pool = mp.Pool(num_cpus)\n",
    "    for i in range(0, params.shape[0]):\n",
    "        pool.apply_async(my_function, args=(i, params[i, 0], params[i,\\\n",
    "         1], params[i, 2]), callback=get_result)\n",
    "    pool.close()\n",
    "    pool.join()\n",
    "    print('Time in parallel:', time.time() - ts)\n",
    "    print(results)"
   ]
  },
  {
   "cell_type": "code",
   "execution_count": null,
   "id": "f0e7c3b1",
   "metadata": {},
   "outputs": [],
   "source": []
  }
 ],
 "metadata": {
  "kernelspec": {
   "display_name": "Python 3",
   "language": "python",
   "name": "python3"
  },
  "language_info": {
   "codemirror_mode": {
    "name": "ipython",
    "version": 3
   },
   "file_extension": ".py",
   "mimetype": "text/x-python",
   "name": "python",
   "nbconvert_exporter": "python",
   "pygments_lexer": "ipython3",
   "version": "3.8.8"
  }
 },
 "nbformat": 4,
 "nbformat_minor": 5
}
