{
 "cells": [
  {
   "cell_type": "code",
   "execution_count": 1,
   "id": "cd1ce3a1",
   "metadata": {},
   "outputs": [],
   "source": [
    "# Code modified from Konrad Hafen\n",
    "# link to full article: https://towardsdatascience.com/asynchronous-parallel-programming-in-python-with-multiprocessing-a3fc882b4023\n"
   ]
  },
  {
   "cell_type": "code",
   "execution_count": 10,
   "id": "168b73f2",
   "metadata": {},
   "outputs": [],
   "source": [
    "import multiprocessing as mp\n",
    "import numpy as np\n",
    "import time\n",
    "from my_function import my_function"
   ]
  },
  {
   "cell_type": "code",
   "execution_count": 6,
   "id": "7f874165",
   "metadata": {},
   "outputs": [],
   "source": [
    "def get_result(result):\n",
    "    global results\n",
    "    results.append(result)"
   ]
  },
  {
   "cell_type": "code",
   "execution_count": null,
   "id": "a62abe6b",
   "metadata": {},
   "outputs": [],
   "source": [
    "if __name__ == '__main__':\n",
    "    params = np.random.random((10, 3)) * 100.0\n",
    "    results = []\n",
    "    ts = time.time()\n",
    "    for i in range(0, params.shape[0]):\n",
    "        get_result(my_function(i, params[i, 0], params[i, 1],\\\n",
    "         params[i, 2]))\n",
    "    print('Time in serial:', time.time() - ts)\n",
    "    print(results)\n",
    "    \n",
    "    results = []\n",
    "    ts = time.time()\n",
    "    num_cpus = mp.cpu_count()\n",
    "    print(\"Number of CPUs used: \"+str(num_cpus))\n",
    "    pool = mp.Pool(num_cpus)\n",
    "    for i in range(0, params.shape[0]):\n",
    "        pool.apply_async(my_function, args=(i, params[i, 0], params[i,\\\n",
    "         1], params[i, 2]), callback=get_result)\n",
    "    pool.close()\n",
    "    pool.join()\n",
    "    print('Time in parallel:', time.time() - ts)\n",
    "    print(results)"
   ]
  },
  {
   "cell_type": "code",
   "execution_count": null,
   "id": "11b2dcab",
   "metadata": {},
   "outputs": [],
   "source": []
  }
 ],
 "metadata": {
  "kernelspec": {
   "display_name": "Python 3",
   "language": "python",
   "name": "python3"
  },
  "language_info": {
   "codemirror_mode": {
    "name": "ipython",
    "version": 3
   },
   "file_extension": ".py",
   "mimetype": "text/x-python",
   "name": "python",
   "nbconvert_exporter": "python",
   "pygments_lexer": "ipython3",
   "version": "3.8.8"
  }
 },
 "nbformat": 4,
 "nbformat_minor": 5
}
